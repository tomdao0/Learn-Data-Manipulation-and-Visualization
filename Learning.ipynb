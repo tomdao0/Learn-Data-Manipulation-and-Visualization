{
 "cells": [
  {
   "cell_type": "code",
   "execution_count": 5,
   "id": "43e8bc90",
   "metadata": {},
   "outputs": [
    {
     "data": {
      "text/plain": [
       "array([5, 7, 9])"
      ]
     },
     "execution_count": 5,
     "metadata": {},
     "output_type": "execute_result"
    }
   ],
   "source": [
    "import numpy as np\n",
    "a = np.array([1,2,3])\n",
    "b = np.array([4,5,6])\n",
    "a + b"
   ]
  },
  {
   "cell_type": "code",
   "execution_count": 1,
   "id": "9a44dbec",
   "metadata": {},
   "outputs": [],
   "source": [
    "ages = [23, 34, 45, 37, 26]"
   ]
  },
  {
   "cell_type": "code",
   "execution_count": 2,
   "id": "ce40b522",
   "metadata": {},
   "outputs": [
    {
     "name": "stdout",
     "output_type": "stream",
     "text": [
      "[23, 34, 45, 37, 26]\n"
     ]
    }
   ],
   "source": [
    "print(ages)"
   ]
  },
  {
   "cell_type": "code",
   "execution_count": 3,
   "id": "65d0fe2d",
   "metadata": {},
   "outputs": [
    {
     "name": "stdout",
     "output_type": "stream",
     "text": [
      "23\n",
      "34\n",
      "45\n",
      "37\n",
      "26\n"
     ]
    }
   ],
   "source": [
    "for age in ages:\n",
    "    print(age)"
   ]
  }
 ],
 "metadata": {
  "kernelspec": {
   "display_name": "env",
   "language": "python",
   "name": "python3"
  },
  "language_info": {
   "codemirror_mode": {
    "name": "ipython",
    "version": 3
   },
   "file_extension": ".py",
   "mimetype": "text/x-python",
   "name": "python",
   "nbconvert_exporter": "python",
   "pygments_lexer": "ipython3",
   "version": "3.11.8"
  }
 },
 "nbformat": 4,
 "nbformat_minor": 5
}
